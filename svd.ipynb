{
  "nbformat": 4,
  "nbformat_minor": 0,
  "metadata": {
    "colab": {
      "name": "svd.ipynb",
      "provenance": [],
      "collapsed_sections": [],
      "toc_visible": true
    },
    "kernelspec": {
      "name": "python3",
      "display_name": "Python 3"
    }
  },
  "cells": [
    {
      "cell_type": "code",
      "metadata": {
        "id": "kfduWeCTdIdk",
        "colab_type": "code",
        "colab": {}
      },
      "source": [
        "import pandas as pd\n",
        "import numpy as np\n",
        "import io\n",
        "from google.colab import files\n",
        "from google.colab import drive\n",
        "from sklearn import preprocessing\n",
        "from sklearn.metrics import mean_squared_error\n",
        "from scipy.linalg import sqrtm\n",
        "from datetime import datetime\n",
        "import matplotlib.pyplot as plt"
      ],
      "execution_count": null,
      "outputs": []
    },
    {
      "cell_type": "code",
      "metadata": {
        "id": "QiA3av5rpF80",
        "colab_type": "code",
        "colab": {}
      },
      "source": [
        "uploaded_austin = files.upload()"
      ],
      "execution_count": null,
      "outputs": []
    },
    {
      "cell_type": "code",
      "metadata": {
        "id": "KxP4a5O9pGHW",
        "colab_type": "code",
        "colab": {}
      },
      "source": [
        "austin_raw = pd.read_csv(io.BytesIO(uploaded_austin['TA Austin - cleaned.csv']))\n",
        "print('The size of raw Austin.csv file is', austin_raw.shape)"
      ],
      "execution_count": null,
      "outputs": []
    },
    {
      "cell_type": "code",
      "metadata": {
        "id": "jtTJciwKo6av",
        "colab_type": "code",
        "colab": {}
      },
      "source": [
        "uploaded_napa = files.upload()"
      ],
      "execution_count": null,
      "outputs": []
    },
    {
      "cell_type": "code",
      "metadata": {
        "id": "9LZnKXZ0o-in",
        "colab_type": "code",
        "colab": {}
      },
      "source": [
        "napa_raw = pd.read_csv(io.BytesIO(uploaded_napa['TA Napa - raw.csv']), usecols = [2,3,5,6,7])\n",
        "print('The size of raw Napa.csv file is', napa_raw.shape)"
      ],
      "execution_count": null,
      "outputs": []
    },
    {
      "cell_type": "code",
      "metadata": {
        "id": "FTjtd4vMpBu_",
        "colab_type": "code",
        "colab": {}
      },
      "source": [
        "uploaded_sonoma = files.upload()"
      ],
      "execution_count": null,
      "outputs": []
    },
    {
      "cell_type": "code",
      "metadata": {
        "id": "1hO1NBAhpDdK",
        "colab_type": "code",
        "colab": {}
      },
      "source": [
        "sonoma_raw = pd.read_csv(io.BytesIO(uploaded_sonoma['TA Sonoma - raw.csv']), usecols = [2,3,5,6,7])\n",
        "print('The size of raw Sonoma.csv file is', sonoma_raw.shape)"
      ],
      "execution_count": null,
      "outputs": []
    },
    {
      "cell_type": "code",
      "metadata": {
        "id": "hzDrDscAX4zb",
        "colab_type": "code",
        "colab": {}
      },
      "source": [
        "def clean(data, raw):\n",
        "  data = data.copy()\n",
        "  if raw:\n",
        "    data['link-href'] = data['link-href'].map(lambda x: \"-\".join(x.split(\"-\", 3)[1:3]))\n",
        "    data['user-href'] = data['user-href'].map(lambda x: x.rsplit('/')[-1])\n",
        "    data['rating'] = data['rating'].map(lambda x: x.lstrip('<span class=\"ui_bubble_rating bubble_').rstrip('0\"></span>')).astype(int)\n",
        "    data['date'] = data['date'].map(lambda x: \" \".join(x.rsplit(\" \", 2)[-2::]))\n",
        "    data.columns = ['activity', 'activityID','userID','rating','date']\n",
        "    data = data[-data['userID'].map(lambda x: x.startswith('Attraction'))]\n",
        "    data = data[data['date'].map(lambda x: len(x.split(' ')[1]) == 4)]\n",
        "    print('After transform to cleaned data and delete the whole row with unfitted template, the size is', data.shape)\n",
        "  else:\n",
        "    data['rating'] = data['rating'] / 10\n",
        "\n",
        "\n",
        "  # drop duplicate rows\n",
        "  if (data.shape == data.drop_duplicates().shape):\n",
        "    print('No duplicate rows in this dataset. The size of the csv file is', data.shape)\n",
        "  else: \n",
        "    duplicates = data[data.duplicated(keep = False)]\n",
        "    duplicates = (duplicates.groupby(duplicates.columns.tolist()).apply(lambda x: tuple(x.index)).reset_index(name='idx'))\n",
        "    data = data.drop_duplicates()\n",
        "    print(duplicates.shape[0], 'rows are duplicated in this dataset. Size after remove them is', data.shape)\n",
        "  \n",
        "\n",
        "  # Keep the most recent rating\n",
        "  latest = data.copy()\n",
        "  latest.date = pd.to_datetime(latest.date)\n",
        "  latest = latest.sort_values(by = 'date', ascending = False).drop_duplicates(subset=['activity','activityID','userID'], keep = 'first').sort_values('activity')\n",
        "  print(\"Only keep the most recent rating for users, the size of data is :\",latest.shape)\n",
        "\n",
        "\n",
        "  return data, latest"
      ],
      "execution_count": null,
      "outputs": []
    },
    {
      "cell_type": "code",
      "metadata": {
        "id": "mQbu6pHcmMN7",
        "colab_type": "code",
        "colab": {}
      },
      "source": [
        "print('-------------------------- Austin --------------------------')\n",
        "austin, latest_austin = clean(austin_raw, False)"
      ],
      "execution_count": null,
      "outputs": []
    },
    {
      "cell_type": "code",
      "metadata": {
        "id": "iEaahCLduwrz",
        "colab_type": "code",
        "colab": {
          "base_uri": "https://localhost:8080/",
          "height": 153
        },
        "outputId": "2c72d750-55cd-4917-c231-02ed060ac182"
      },
      "source": [
        "print('-------------------------- Napa --------------------------')\n",
        "napa, latest_napa = clean(napa_raw, True)\n",
        "print('-------------------------- Sonoma --------------------------')\n",
        "sonoma, latest_sonoma = clean(sonoma_raw, True)"
      ],
      "execution_count": null,
      "outputs": [
        {
          "output_type": "stream",
          "text": [
            "-------------------------- Napa --------------------------\n",
            "After transform to cleaned data and delete the whole row with unfitted template, the size is (51422, 5)\n",
            "1619 rows are duplicated in this dataset. Size after remove them is (49803, 5)\n",
            "Only keep the most recent rating for users, the size of data is : (49121, 5)\n",
            "-------------------------- Sonoma --------------------------\n",
            "After transform to cleaned data and delete the whole row with unfitted template, the size is (41880, 5)\n",
            "1952 rows are duplicated in this dataset. Size after remove them is (39925, 5)\n",
            "Only keep the most recent rating for users, the size of data is : (39202, 5)\n"
          ],
          "name": "stdout"
        }
      ]
    },
    {
      "cell_type": "markdown",
      "metadata": {
        "id": "Es_CfnzTxYbJ",
        "colab_type": "text"
      },
      "source": [
        "#def trans1 - combine dataset & X year & matrix"
      ]
    },
    {
      "cell_type": "code",
      "metadata": {
        "id": "QC7Lo4JyaYGP",
        "colab_type": "code",
        "colab": {}
      },
      "source": [
        "def trans1(data1, des1, data2, des2, year):\n",
        "\n",
        "  # combine data\n",
        "  data1['destination'] = des1\n",
        "  data2['destination'] = des2\n",
        "  combine = data1.append(data2)\n",
        "  print('After add new data, we have', combine.shape, 'record.')\n",
        "\n",
        "\n",
        "  # drop duplicate rows\n",
        "  if (combine.shape == combine.drop_duplicates().shape):\n",
        "    print('No duplicate rows in this dataset. The size of the csv file is', combine.shape)\n",
        "  else: \n",
        "    duplicates = combine[combine.duplicated(keep = False)]\n",
        "    duplicates = (duplicates.groupby(duplicates.columns.tolist()).apply(lambda x: tuple(x.index)).reset_index(name='idx'))\n",
        "    combine = combine.drop_duplicates()\n",
        "    print(duplicates.shape[0], 'rows are duplicated in this dataset. Size after remove them is', combine.shape)\n",
        "  \n",
        "\n",
        "  # Keep the most recent rating\n",
        "  combine.date = pd.to_datetime(combine.date)\n",
        "  combine = combine.sort_values(by = 'date', ascending = False).drop_duplicates(subset=['activity','activityID','userID'], keep = 'first').sort_values('activity')\n",
        "  print(\"Only keep the most recent rating for users, the size of data is :\",combine.shape)\n",
        "\n",
        "\n",
        "  # X year\n",
        "  if year != 0:\n",
        "    combine = combine[combine['date'].map(lambda x: int(str(x).split('-')[0]) >= year)]\n",
        "    print('Data after year', year, 'has', combine.shape, 'record.')\n",
        "\n",
        "  # trans to matrix\n",
        "  df_m = pd.pivot_table(combine, index=[\"destination\",\"activityID\"], values=[\"rating\"], columns=[\"userID\"])\n",
        "  df_m.columns = df_m.columns.droplevel(0)\n",
        "  df_m = df_m.rename_axis(None, axis=1)\n",
        "  print('Reshape to matrix with size: ', df_m.shape, ', which contains', df_m.shape[0]*df_m.shape[1], 'cells.')\n",
        "  print('% filled is', df_m.count().sum() / (df_m.shape[0]*df_m.shape[1]))\n",
        "  print('Avg ratings per user: ', df_m.count().sum()/df_m.shape[1])\n",
        "  print('# users with only 1 rating: ', np.sum(df_m.count(axis = 0) == 1))\n",
        "  print('# products with only 1 rating: ', np.sum(df_m.count(axis = 1) == 1))\n",
        "\n",
        "  # top 5 user\n",
        "  top5 = pd.DataFrame({'# of ratings': df_m.count(axis = 0)}).sort_values('# of ratings', ascending = False).head(5)\n",
        "  top5[\"col_index\"] = top5.index.map(lambda x: df_m.columns.get_loc(x)).values\n",
        "  print('Top 5 users are: \\n', top5)\n",
        "  return combine, df_m\n"
      ],
      "execution_count": null,
      "outputs": []
    },
    {
      "cell_type": "code",
      "metadata": {
        "id": "BN8KNvI5jgq4",
        "colab_type": "code",
        "colab": {
          "base_uri": "https://localhost:8080/",
          "height": 272
        },
        "outputId": "43deb533-553b-4ed3-d690-375f8d6fa16e"
      },
      "source": [
        "df_c,m_c = trans1(latest_napa, 'napa', latest_sonoma, 'sonoma', 0)"
      ],
      "execution_count": null,
      "outputs": [
        {
          "output_type": "stream",
          "text": [
            "After add new data, we have (88323, 6) record.\n",
            "No duplicate rows in this dataset. The size of the csv file is (88323, 6)\n",
            "Only keep the most recent rating for users, the size of data is : (88323, 6)\n",
            "Reshape to matrix with size:  (1019, 49431) , which contains 50370189 cells.\n",
            "% filled is 0.001753477637338228\n",
            "Avg ratings per user:  1.7867937124476543\n",
            "# users with only 1 rating:  33805\n",
            "# products with only 1 rating:  79\n",
            "Top 5 users are: \n",
            "              # of ratings  col_index\n",
            "mini                  155      41787\n",
            "pfefmeister            74      43601\n",
            "BoulderNut             53       8101\n",
            "moviegal226            48      42154\n",
            "karansimoni            46      38281\n"
          ],
          "name": "stdout"
        }
      ]
    },
    {
      "cell_type": "markdown",
      "metadata": {
        "id": "ebBQ8s99njIz",
        "colab_type": "text"
      },
      "source": [
        "# SVD\n"
      ]
    },
    {
      "cell_type": "code",
      "metadata": {
        "id": "YzAGN7unmoXa",
        "colab_type": "code",
        "colab": {}
      },
      "source": [
        "!pip install scikit-surprise"
      ],
      "execution_count": null,
      "outputs": []
    },
    {
      "cell_type": "code",
      "metadata": {
        "id": "nWwCd_95mQw5",
        "colab_type": "code",
        "colab": {}
      },
      "source": [
        "from surprise import SVD\n",
        "from surprise import Dataset, Reader, accuracy, Trainset, KNNBasic\n",
        "from surprise import Trainset\n",
        "from surprise.model_selection import cross_validate, train_test_split, GridSearchCV"
      ],
      "execution_count": null,
      "outputs": []
    },
    {
      "cell_type": "markdown",
      "metadata": {
        "id": "TPQ70ApGlNu7",
        "colab_type": "text"
      },
      "source": [
        "# data transformation"
      ]
    },
    {
      "cell_type": "markdown",
      "metadata": {
        "id": "v9YIjo9xXiJC",
        "colab_type": "text"
      },
      "source": [
        "Normalization, then turns into the data format that Surprise needs"
      ]
    },
    {
      "cell_type": "code",
      "metadata": {
        "id": "V3gysrIQvWx2",
        "colab_type": "code",
        "colab": {}
      },
      "source": [
        "# scenario1 & 2\n",
        "latest_austin['normal_rating'] = preprocessing.scale(latest_austin['rating'])\n",
        "reader = Reader(rating_scale=(1, 5))\n",
        "datafull = Dataset.load_from_df(latest_austin[['userID', 'activityID', 'normal_rating']], reader)"
      ],
      "execution_count": null,
      "outputs": []
    },
    {
      "cell_type": "code",
      "metadata": {
        "id": "MXLE-lbtvbhz",
        "colab_type": "code",
        "colab": {}
      },
      "source": [
        "# scenario3 - combine Napa & Sonoma\n",
        "df_c['normal_rating'] = preprocessing.scale(df_c['rating'])\n",
        "reader = Reader(rating_scale=(1, 5))\n",
        "datafull = Dataset.load_from_df(df_c[['userID', 'activityID', 'normal_rating']], reader)"
      ],
      "execution_count": null,
      "outputs": []
    },
    {
      "cell_type": "code",
      "metadata": {
        "id": "YU6mJ014vgTO",
        "colab_type": "code",
        "colab": {}
      },
      "source": [
        "# scenatio4 - delete user and item that has only one rating\n",
        "df_u = df_c[df_c.groupby('userID').userID.transform(len) > 1]\n",
        "df_p = df_u.groupby('activityID').filter(lambda x: len(x) > 1)\n",
        "df_p['normal_rating'] = preprocessing.scale(df_p['rating'])\n",
        "reader = Reader(rating_scale=(1, 5))\n",
        "datafull = Dataset.load_from_df(df_p[['userID', 'activityID', 'normal_rating']], reader)"
      ],
      "execution_count": null,
      "outputs": []
    },
    {
      "cell_type": "markdown",
      "metadata": {
        "id": "ptrfzFO3IzRV",
        "colab_type": "text"
      },
      "source": [
        "# Tune algorithm parameters"
      ]
    },
    {
      "cell_type": "code",
      "metadata": {
        "id": "fYu8J5rzUdPu",
        "colab_type": "code",
        "colab": {
          "base_uri": "https://localhost:8080/",
          "height": 331
        },
        "outputId": "c74689f7-a03f-4070-f080-d139681d67c3"
      },
      "source": [
        "# n_factor\n",
        "factor_grid = {'n_factors': [1,2,3,5,10,20,50]}\n",
        "nf = GridSearchCV(SVD, factor_grid, measures=['rmse', 'mae'], cv = 3)\n",
        "nf.fit(datafull)\n",
        "print(nf.best_score)\n",
        "print(nf.best_params)\n",
        "plt.plot(nf.cv_results['param_n_factors'], nf.cv_results['mean_test_rmse'], label = \"RMSE\") \n",
        "plt.plot(nf.cv_results['param_n_factors'], nf.cv_results['mean_test_mae'], label = \"MAE\") \n",
        "plt.xlabel('n_factor')\n",
        "plt.ylabel('Error')\n",
        "plt.legend() "
      ],
      "execution_count": null,
      "outputs": [
        {
          "output_type": "stream",
          "text": [
            "{'rmse': 0.2413911742278266, 'mae': 0.13421886178909817}\n",
            "{'rmse': {'n_factors': 2}, 'mae': {'n_factors': 1}}\n"
          ],
          "name": "stdout"
        },
        {
          "output_type": "execute_result",
          "data": {
            "text/plain": [
              "<matplotlib.legend.Legend at 0x7f32ef01dc50>"
            ]
          },
          "metadata": {
            "tags": []
          },
          "execution_count": 69
        },
        {
          "output_type": "display_data",
          "data": {
            "image/png": "[encoded data removed]",
            "text/plain": [
              "<Figure size 432x288 with 1 Axes>"
            ]
          },
          "metadata": {
            "tags": [],
            "needs_background": "light"
          }
        }
      ]
    },
    {
      "cell_type": "code",
      "metadata": {
        "id": "IRmhMQSD5pbS",
        "colab_type": "code",
        "colab": {
          "base_uri": "https://localhost:8080/",
          "height": 266
        },
        "outputId": "6387f880-db93-4f10-c3c0-a2dc5c16e1cb"
      },
      "source": [
        "pd.DataFrame({'n_factors': nf.cv_results['param_n_factors'],\n",
        "             'mean_test_rmse': nf.cv_results['mean_test_rmse'],\n",
        "             'mean_test_mae': nf.cv_results['mean_test_mae']})"
      ],
      "execution_count": null,
      "outputs": [
        {
          "output_type": "execute_result",
          "data": {
            "text/html": [
              "<div>\n",
              "<style scoped>\n",
              "    .dataframe tbody tr th:only-of-type {\n",
              "        vertical-align: middle;\n",
              "    }\n",
              "\n",
              "    .dataframe tbody tr th {\n",
              "        vertical-align: top;\n",
              "    }\n",
              "\n",
              "    .dataframe thead th {\n",
              "        text-align: right;\n",
              "    }\n",
              "</style>\n",
              "<table border=\"1\" class=\"dataframe\">\n",
              "  <thead>\n",
              "    <tr style=\"text-align: right;\">\n",
              "      <th></th>\n",
              "      <th>n_factors</th>\n",
              "      <th>mean_test_rmse</th>\n",
              "      <th>mean_test_mae</th>\n",
              "    </tr>\n",
              "  </thead>\n",
              "  <tbody>\n",
              "    <tr>\n",
              "      <th>0</th>\n",
              "      <td>1</td>\n",
              "      <td>0.241391</td>\n",
              "      <td>0.134219</td>\n",
              "    </tr>\n",
              "    <tr>\n",
              "      <th>1</th>\n",
              "      <td>2</td>\n",
              "      <td>0.241391</td>\n",
              "      <td>0.134220</td>\n",
              "    </tr>\n",
              "    <tr>\n",
              "      <th>2</th>\n",
              "      <td>3</td>\n",
              "      <td>0.241392</td>\n",
              "      <td>0.134222</td>\n",
              "    </tr>\n",
              "    <tr>\n",
              "      <th>3</th>\n",
              "      <td>5</td>\n",
              "      <td>0.241392</td>\n",
              "      <td>0.134229</td>\n",
              "    </tr>\n",
              "    <tr>\n",
              "      <th>4</th>\n",
              "      <td>10</td>\n",
              "      <td>0.241393</td>\n",
              "      <td>0.134229</td>\n",
              "    </tr>\n",
              "    <tr>\n",
              "      <th>5</th>\n",
              "      <td>20</td>\n",
              "      <td>0.241402</td>\n",
              "      <td>0.134258</td>\n",
              "    </tr>\n",
              "    <tr>\n",
              "      <th>6</th>\n",
              "      <td>50</td>\n",
              "      <td>0.241456</td>\n",
              "      <td>0.134352</td>\n",
              "    </tr>\n",
              "  </tbody>\n",
              "</table>\n",
              "</div>"
            ],
            "text/plain": [
              "   n_factors  mean_test_rmse  mean_test_mae\n",
              "0          1        0.241391       0.134219\n",
              "1          2        0.241391       0.134220\n",
              "2          3        0.241392       0.134222\n",
              "3          5        0.241392       0.134229\n",
              "4         10        0.241393       0.134229\n",
              "5         20        0.241402       0.134258\n",
              "6         50        0.241456       0.134352"
            ]
          },
          "metadata": {
            "tags": []
          },
          "execution_count": 70
        }
      ]
    },
    {
      "cell_type": "code",
      "metadata": {
        "id": "GfJFsbW_UgYG",
        "colab_type": "code",
        "colab": {
          "base_uri": "https://localhost:8080/",
          "height": 313
        },
        "outputId": "ca99bb8a-2e03-44e0-a306-10c715c7d558"
      },
      "source": [
        "# learning rate\n",
        "lr_grid = {'lr_all': [0.0005, 0.001, 0.002, 0.005, 0.007, 0.01]}\n",
        "lr = GridSearchCV(SVD, lr_grid, measures=['rmse', 'mae'], cv = 3)\n",
        "lr.fit(datafull)\n",
        "print(lr.best_score)\n",
        "print(lr.best_params)\n",
        "plt.plot(lr.cv_results['param_lr_all'], lr.cv_results['mean_test_rmse'], label = \"RMSE\") \n",
        "plt.plot(lr.cv_results['param_lr_all'], lr.cv_results['mean_test_mae'], label = \"MAE\") \n",
        "plt.xlabel('Learning Rate')\n",
        "plt.ylabel('Error')\n",
        "plt.legend()\n",
        "plt.show() "
      ],
      "execution_count": null,
      "outputs": [
        {
          "output_type": "stream",
          "text": [
            "{'rmse': 0.8383382445950819, 'mae': 0.6324374891579047}\n",
            "{'rmse': {'lr_all': 0.002}, 'mae': {'lr_all': 0.01}}\n"
          ],
          "name": "stdout"
        },
        {
          "output_type": "display_data",
          "data": {
            "image/png": "[encoded data removed]",
            "text/plain": [
              "<Figure size 432x288 with 1 Axes>"
            ]
          },
          "metadata": {
            "tags": [],
            "needs_background": "light"
          }
        }
      ]
    },
    {
      "cell_type": "code",
      "metadata": {
        "id": "6U5RP9W9UkSI",
        "colab_type": "code",
        "colab": {
          "base_uri": "https://localhost:8080/",
          "height": 313
        },
        "outputId": "3624d867-c3bf-41df-f8ad-f7157c7dd39c"
      },
      "source": [
        "# regularization \n",
        "reg_grid = {'reg_all': [0.01, 0.02, 0.05, 0.07, 0.1]}\n",
        "reg = GridSearchCV(SVD, reg_grid, measures=['rmse', 'mae'], cv = 3)\n",
        "reg.fit(datafull)\n",
        "print(reg.best_score)\n",
        "print(reg.best_params)\n",
        "plt.plot(reg.cv_results['param_reg_all'], reg.cv_results['mean_test_rmse'], label = \"RMSE\") \n",
        "plt.plot(reg.cv_results['param_reg_all'], reg.cv_results['mean_test_mae'], label = \"MAE\") \n",
        "plt.xlabel('Regularization Term')\n",
        "plt.ylabel('Error')\n",
        "plt.legend()\n",
        "plt.show()"
      ],
      "execution_count": null,
      "outputs": [
        {
          "output_type": "stream",
          "text": [
            "{'rmse': 0.8329822320783834, 'mae': 0.634408585884427}\n",
            "{'rmse': {'reg_all': 0.1}, 'mae': {'reg_all': 0.07}}\n"
          ],
          "name": "stdout"
        },
        {
          "output_type": "display_data",
          "data": {
            "image/png": "[encoded data removed]",
            "text/plain": [
              "<Figure size 432x288 with 1 Axes>"
            ]
          },
          "metadata": {
            "tags": [],
            "needs_background": "light"
          }
        }
      ]
    },
    {
      "cell_type": "markdown",
      "metadata": {
        "id": "LOi2aMomXpRP",
        "colab_type": "text"
      },
      "source": [
        "Try different combinations of the parameter and return the best one."
      ]
    },
    {
      "cell_type": "code",
      "metadata": {
        "id": "Z09zxWKxI5Js",
        "colab_type": "code",
        "colab": {
          "base_uri": "https://localhost:8080/",
          "height": 51
        },
        "outputId": "cc4dffdc-8141-4b77-bb01-c428fc679cf3"
      },
      "source": [
        "param_grid = {'n_factors': [1, 2], 'n_epochs': [50,100], 'lr_all': [0.002, 0.01], 'reg_all': [0.07, 0.1]}\n",
        "gs = GridSearchCV(SVD, param_grid, measures=['rmse', 'mae'], cv = 3)\n",
        "gs.fit(datafull)\n",
        "# best RMSE score\n",
        "print(gs.best_score['rmse'])\n",
        "# combination of parameters that gave the best RMSE score\n",
        "print(gs.best_params['rmse'])\n",
        "# Build an algorithm, and train it.\n",
        "algo = gs.best_estimator['rmse']"
      ],
      "execution_count": null,
      "outputs": [
        {
          "output_type": "stream",
          "text": [
            "0.8306251453429847\n",
            "{'n_factors': 1, 'n_epochs': 50, 'lr_all': 0.002, 'reg_all': 0.07}\n"
          ],
          "name": "stdout"
        }
      ]
    },
    {
      "cell_type": "markdown",
      "metadata": {
        "id": "WAtaOj_PoNtq",
        "colab_type": "text"
      },
      "source": [
        "# scenario1"
      ]
    },
    {
      "cell_type": "code",
      "metadata": {
        "id": "E4IPPEVoLH4i",
        "colab_type": "code",
        "colab": {}
      },
      "source": [
        "# train set 90%, test set 10%\n",
        "trainset90, testset10 = train_test_split(datafull, test_size=.1)\n",
        "predictions10 = algo.fit(trainset90).test(testset10)\n",
        "print('MSE for train set 90%, test set 10%:', accuracy.rmse(predictions10) **2)"
      ],
      "execution_count": null,
      "outputs": []
    },
    {
      "cell_type": "code",
      "metadata": {
        "id": "ON_bi4rcpmGo",
        "colab_type": "code",
        "colab": {
          "base_uri": "https://localhost:8080/",
          "height": 51
        },
        "outputId": "66aee4a8-f07e-4e35-ea6f-515ed15839a5"
      },
      "source": [
        "#train set 80%, test set 20%\n",
        "trainset80, testset20 = train_test_split(datafull, test_size=.2)\n",
        "predictions20 = algo.fit(trainset80).test(testset20)\n",
        "print('MSE for train set 80%, test set 20%:', accuracy.rmse(predictions20) **2)"
      ],
      "execution_count": null,
      "outputs": [
        {
          "output_type": "stream",
          "text": [
            "RMSE: 0.7535\n",
            "MSE for train set 80%, test set 20%: 0.5678026070554254\n"
          ],
          "name": "stdout"
        }
      ]
    },
    {
      "cell_type": "code",
      "metadata": {
        "id": "nh6r_tcav6I-",
        "colab_type": "code",
        "colab": {
          "base_uri": "https://localhost:8080/",
          "height": 51
        },
        "outputId": "fc5678ba-cf50-4391-e40d-93b6d4465323"
      },
      "source": [
        "#train set 75%, test set 25%\n",
        "trainset75, testset25 = train_test_split(datafull, test_size=.2)\n",
        "predictions25 = algo.fit(trainset75).test(testset25)\n",
        "print('MSE for train set 75%, test set 25%:', accuracy.rmse(predictions25) **2)"
      ],
      "execution_count": null,
      "outputs": [
        {
          "output_type": "stream",
          "text": [
            "RMSE: 0.7540\n",
            "MSE for train set 80%, test set 20%: 0.5684488288369062\n"
          ],
          "name": "stdout"
        }
      ]
    },
    {
      "cell_type": "code",
      "metadata": {
        "id": "dwK5HamtWtVS",
        "colab_type": "code",
        "colab": {
          "base_uri": "https://localhost:8080/",
          "height": 51
        },
        "outputId": "a21ed524-9800-440d-c605-321c1e8a3aae"
      },
      "source": [
        "# train set 67%, test set 33%\n",
        "trainset67, testset33 = train_test_split(datafull, test_size=.5)\n",
        "predictions33 = algo.fit(trainset67).test(testset33)\n",
        "print('MSE for train set 67%, test set 33%:', accuracy.rmse(predictions33) **2)"
      ],
      "execution_count": null,
      "outputs": [
        {
          "output_type": "stream",
          "text": [
            "RMSE: 0.7577\n",
            "MSE for train set 67%, test set 33%: 0.5741023901110516\n"
          ],
          "name": "stdout"
        }
      ]
    },
    {
      "cell_type": "code",
      "metadata": {
        "id": "YhTbaG-5psSS",
        "colab_type": "code",
        "colab": {
          "base_uri": "https://localhost:8080/",
          "height": 51
        },
        "outputId": "15f21c03-b15b-4f36-9589-e7c218a1c80c"
      },
      "source": [
        "# train set 10%, test set 90%\n",
        "trainset10, testset90 = train_test_split(datafull, test_size=.9)\n",
        "predictions90 = algo.fit(trainset10).test(testset90)\n",
        "print('MSE for train set 10%, test set 90%:', accuracy.rmse(predictions90) **2)"
      ],
      "execution_count": null,
      "outputs": [
        {
          "output_type": "stream",
          "text": [
            "RMSE: 0.7799\n",
            "MSE for train set 10%, test set 90%: 0.6082579907033442\n"
          ],
          "name": "stdout"
        }
      ]
    },
    {
      "cell_type": "markdown",
      "metadata": {
        "id": "-IGUNZ64obp2",
        "colab_type": "text"
      },
      "source": [
        "# scenario2"
      ]
    },
    {
      "cell_type": "code",
      "metadata": {
        "id": "mtD9QvgO5eW1",
        "colab_type": "code",
        "colab": {}
      },
      "source": [
        "def single_user_oneplace(data, uid):\n",
        "  temp = data.loc[data['userID'] == uid]\n",
        "  # test data\n",
        "  test = temp.iloc[5:,[2,1,5]].to_records(index = False).tolist()\n",
        "  # train data\n",
        "  train = data.drop(labels=temp.index.to_list()[5:])\n",
        "  train = Dataset.load_from_df(train[['userID', 'activityID', 'normal_rating']], reader)\n",
        "  # prediction\n",
        "  pred = algo.fit(train.build_full_trainset()).test(test)\n",
        "  print(accuracy.rmse(pred) **2)\n",
        "  return train, test, pred"
      ],
      "execution_count": null,
      "outputs": []
    },
    {
      "cell_type": "code",
      "metadata": {
        "id": "58QwP0a88Su9",
        "colab_type": "code",
        "colab": {
          "base_uri": "https://localhost:8080/",
          "height": 51
        },
        "outputId": "4fedd5cb-2d23-4306-946c-e8db954dec32"
      },
      "source": [
        "train_jack, test_jack, pred_jack = single_user_oneplace(latest_austin, 'mljack')"
      ],
      "execution_count": null,
      "outputs": [
        {
          "output_type": "stream",
          "text": [
            "RMSE: 0.8659\n",
            "0.7497911175804233\n"
          ],
          "name": "stdout"
        }
      ]
    },
    {
      "cell_type": "code",
      "metadata": {
        "id": "BJwsrwBC8GJw",
        "colab_type": "code",
        "colab": {
          "base_uri": "https://localhost:8080/",
          "height": 51
        },
        "outputId": "a9b9dff4-9a45-4a3e-edb7-70828b3ea019"
      },
      "source": [
        "train_p74, test_p74, pred_p74 = single_user_oneplace(latest_austin, 'P7464TCjoelm')"
      ],
      "execution_count": null,
      "outputs": [
        {
          "output_type": "stream",
          "text": [
            "RMSE: 0.2954\n",
            "0.0872854929761815\n"
          ],
          "name": "stdout"
        }
      ]
    },
    {
      "cell_type": "code",
      "metadata": {
        "id": "L1Oy_kuY7k_n",
        "colab_type": "code",
        "colab": {
          "base_uri": "https://localhost:8080/",
          "height": 51
        },
        "outputId": "ea1f3a1e-3a8f-4b11-9432-88c8ecd24283"
      },
      "source": [
        "train_pnk, test_pnk, pred_pnk = single_user_oneplace(latest_austin, 'pnkgirl27')"
      ],
      "execution_count": null,
      "outputs": [
        {
          "output_type": "stream",
          "text": [
            "RMSE: 1.0900\n",
            "1.1881594429848423\n"
          ],
          "name": "stdout"
        }
      ]
    },
    {
      "cell_type": "code",
      "metadata": {
        "id": "hXhUdR8o7_Ke",
        "colab_type": "code",
        "colab": {
          "base_uri": "https://localhost:8080/",
          "height": 51
        },
        "outputId": "843d4099-4c67-458b-bc1f-201b943524f9"
      },
      "source": [
        "train_tony, test_tony, pred_tony = single_user_oneplace(latest_austin, 'tonyh120')"
      ],
      "execution_count": null,
      "outputs": [
        {
          "output_type": "stream",
          "text": [
            "RMSE: 0.5366\n",
            "0.287953582325876\n"
          ],
          "name": "stdout"
        }
      ]
    },
    {
      "cell_type": "code",
      "metadata": {
        "id": "VvCRMybQ8tSE",
        "colab_type": "code",
        "colab": {
          "base_uri": "https://localhost:8080/",
          "height": 51
        },
        "outputId": "774fe249-49e3-4a43-d9cc-313090fce42b"
      },
      "source": [
        "train_501, test_501, pred_501 = single_user_oneplace(latest_austin, '501glorial')"
      ],
      "execution_count": null,
      "outputs": [
        {
          "output_type": "stream",
          "text": [
            "RMSE: 0.4295\n",
            "0.1844659467747477\n"
          ],
          "name": "stdout"
        }
      ]
    },
    {
      "cell_type": "code",
      "metadata": {
        "id": "hwgpbOTkHyyv",
        "colab_type": "code",
        "colab": {
          "base_uri": "https://localhost:8080/",
          "height": 51
        },
        "outputId": "72f429ee-9ba6-4b9f-bbf1-acad13464d2d"
      },
      "source": [
        "train_mini, test_mini, pred_mini = single_user_oneplace(latest_napa, 'mini')"
      ],
      "execution_count": null,
      "outputs": [
        {
          "output_type": "stream",
          "text": [
            "RMSE: 0.6308\n",
            "0.3979012481086628\n"
          ],
          "name": "stdout"
        }
      ]
    },
    {
      "cell_type": "code",
      "metadata": {
        "id": "utOV1psgIVqB",
        "colab_type": "code",
        "colab": {
          "base_uri": "https://localhost:8080/",
          "height": 51
        },
        "outputId": "bdeac066-e6f4-4242-b682-1565add025f7"
      },
      "source": [
        "train_mini, test_mini, pred_mini = single_user_oneplace(latest_napa, 'moviegal226')"
      ],
      "execution_count": null,
      "outputs": [
        {
          "output_type": "stream",
          "text": [
            "RMSE: 1.1638\n",
            "1.354453253822309\n"
          ],
          "name": "stdout"
        }
      ]
    },
    {
      "cell_type": "code",
      "metadata": {
        "id": "Lk-d9kW6I1h8",
        "colab_type": "code",
        "colab": {
          "base_uri": "https://localhost:8080/",
          "height": 51
        },
        "outputId": "f4e30f2f-e256-49d2-d677-5d54e3ff92ce"
      },
      "source": [
        "train_kar, test_kar, pred_kar = single_user_oneplace(latest_napa, 'karansimoni') "
      ],
      "execution_count": null,
      "outputs": [
        {
          "output_type": "stream",
          "text": [
            "RMSE: 0.6908\n",
            "0.4772541122965351\n"
          ],
          "name": "stdout"
        }
      ]
    },
    {
      "cell_type": "code",
      "metadata": {
        "id": "tcAQNC4pJQdV",
        "colab_type": "code",
        "colab": {
          "base_uri": "https://localhost:8080/",
          "height": 51
        },
        "outputId": "4eba47b3-e3ee-47ff-c6a2-a21269ade7f4"
      },
      "source": [
        "train_kwa, test_kwa, pred_kwa = single_user_oneplace(latest_napa, 'kwagmeister') "
      ],
      "execution_count": null,
      "outputs": [
        {
          "output_type": "stream",
          "text": [
            "RMSE: 0.3772\n",
            "0.1422617704574435\n"
          ],
          "name": "stdout"
        }
      ]
    },
    {
      "cell_type": "markdown",
      "metadata": {
        "id": "Ibbuy53HnsaX",
        "colab_type": "text"
      },
      "source": [
        "# scenario3"
      ]
    },
    {
      "cell_type": "code",
      "metadata": {
        "id": "ePLu1PrsdFYK",
        "colab_type": "code",
        "colab": {}
      },
      "source": [
        "# for scenario3 & 4\n",
        "def single_user(clean_data, uid, des):\n",
        "  data = clean_data.copy()\n",
        "  # test set\n",
        "  test = data[(data['userID'] == uid) & (data['destination'] == des)].iloc[:,[2,1,6]].to_records(index = False).tolist()\n",
        "  # train set\n",
        "  data = data[-((data['userID'] == uid) & (data['destination'] == des))]\n",
        "  data = Dataset.load_from_df(data[['userID', 'activityID', 'normal_rating']], reader)\n",
        "\n",
        "  return data, test"
      ],
      "execution_count": null,
      "outputs": []
    },
    {
      "cell_type": "code",
      "metadata": {
        "id": "rV-_GutpTYdT",
        "colab_type": "code",
        "colab": {}
      },
      "source": [
        "train, test = single_user(df_p, 'mini', 'sonoma')"
      ],
      "execution_count": null,
      "outputs": []
    },
    {
      "cell_type": "code",
      "metadata": {
        "id": "EV3-dxZ8nGey",
        "colab_type": "code",
        "colab": {}
      },
      "source": [
        "train2, test2 = single_user(df_p, 'pfefmeister', 'sonoma')"
      ],
      "execution_count": null,
      "outputs": []
    },
    {
      "cell_type": "code",
      "metadata": {
        "id": "R5haBiO5TWXd",
        "colab_type": "code",
        "colab": {
          "base_uri": "https://localhost:8080/",
          "height": 51
        },
        "outputId": "e1bba90e-8bae-49c4-8c68-3b4277c78b08"
      },
      "source": [
        "# 'mini'\n",
        "pred_mini = algo.fit(train.build_full_trainset()).test(test)\n",
        "accuracy.rmse(pred_mini) ** 2"
      ],
      "execution_count": null,
      "outputs": [
        {
          "output_type": "stream",
          "text": [
            "RMSE: 0.5595\n"
          ],
          "name": "stdout"
        },
        {
          "output_type": "execute_result",
          "data": {
            "text/plain": [
              "0.31303696521976593"
            ]
          },
          "metadata": {
            "tags": []
          },
          "execution_count": 51
        }
      ]
    },
    {
      "cell_type": "code",
      "metadata": {
        "id": "Fnp-LSTbus0P",
        "colab_type": "code",
        "colab": {
          "base_uri": "https://localhost:8080/",
          "height": 51
        },
        "outputId": "b739b7fe-92cd-4597-a8be-b87a1fe02173"
      },
      "source": [
        "# 'pfefmeister'\n",
        "pred_pf = algo.fit(train2.build_full_trainset()).test(test2)\n",
        "accuracy.rmse(pred_pf) ** 2"
      ],
      "execution_count": null,
      "outputs": [
        {
          "output_type": "stream",
          "text": [
            "RMSE: 0.4631\n"
          ],
          "name": "stdout"
        },
        {
          "output_type": "execute_result",
          "data": {
            "text/plain": [
              "0.2144455980374478"
            ]
          },
          "metadata": {
            "tags": []
          },
          "execution_count": 50
        }
      ]
    }
  ]
}